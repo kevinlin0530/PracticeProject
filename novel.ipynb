{
 "cells": [
  {
   "cell_type": "code",
   "execution_count": 1,
   "id": "ee838d95",
   "metadata": {},
   "outputs": [],
   "source": [
    "import requests as req\n",
    "from bs4 import BeautifulSoup as bs\n",
    "from pprint import pprint\n",
    "import os,json\n",
    "from time import time,sleep\n",
    "from random import randint"
   ]
  },
  {
   "cell_type": "code",
   "execution_count": 2,
   "id": "f91068bb",
   "metadata": {},
   "outputs": [],
   "source": [
    "url = 'https://www.wenku8.net/modules/article/reader.php?aid=1'"
   ]
  },
  {
   "cell_type": "code",
   "execution_count": 3,
   "id": "8488c03c",
   "metadata": {},
   "outputs": [],
   "source": [
    "from fake_useragent import UserAgent\n",
    "ua=UserAgent(cache = True)\n",
    "header = {\n",
    "    'user-agent': ua.random\n",
    "}\n",
    "res=req.get(url,headers=header)\n",
    "res.encoding='gbk'\n",
    "soup = bs(res.text,'lxml')"
   ]
  },
  {
   "cell_type": "code",
   "execution_count": 4,
   "id": "e30181ec",
   "metadata": {},
   "outputs": [],
   "source": [
    "# 建立小說資料夾\n",
    "folderPath = 'novel'\n",
    "if not os.path.exists(folderPath):\n",
    "    os.makedirs(folderPath)"
   ]
  },
  {
   "cell_type": "code",
   "execution_count": 6,
   "id": "479f2ad9",
   "metadata": {},
   "outputs": [],
   "source": [
    "# 在novel 內產生每個章節的資料夾\n",
    "title_name = []\n",
    "for i in  soup.select('table.css>tr>td.vcss'):\n",
    "    title_name.append(i.get_text())\n"
   ]
  },
  {
   "cell_type": "code",
   "execution_count": 7,
   "id": "4e6223e3",
   "metadata": {
    "scrolled": true
   },
   "outputs": [],
   "source": [
    "ep = soup.select('td > a')\n",
    "\n",
    "ep_list=[] # 所有網址\n",
    "for eps in ep:\n",
    "    ep_list.append(eps['href'])\n"
   ]
  },
  {
   "cell_type": "code",
   "execution_count": 9,
   "id": "bb7a7ae3",
   "metadata": {},
   "outputs": [],
   "source": [
    "\n",
    "ep_list2 = []\n",
    "for i in range(len(ep_list)):\n",
    "    res0= req.get(ep_list[i],headers = header)\n",
    "    res0.encoding = 'gbk'\n",
    "    soup_link = bs(res0.text,'lxml')\n",
    "    inner =soup_link.select_one('#contentmain').get_text()\n",
    "    ep_list2.append(inner)\n",
    "\n",
    "    "
   ]
  },
  {
   "cell_type": "code",
   "execution_count": null,
   "id": "e9004fa4",
   "metadata": {},
   "outputs": [],
   "source": [
    "with open('test.txt','w',encoding = 'utf-8') as file:\n",
    "        for i in range(len(ep_list2)):\n",
    "            file.write(ep_list2[i])"
   ]
  },
  {
   "cell_type": "code",
   "execution_count": 10,
   "id": "c3ed895b",
   "metadata": {},
   "outputs": [],
   "source": [
    "# 為了跟資料夾的名稱比對，再產生一個檔案資料夾\n",
    "titles=[]\n",
    "for i in range(len(ep_list)):\n",
    "    res0= req.get(ep_list[i],headers = header)\n",
    "    res0.encoding = 'gbk'\n",
    "    soup_link = bs(res0.text,'lxml')\n",
    "    title=soup_link.select_one('title').get_text()\n",
    "    titles.append(title)"
   ]
  },
  {
   "cell_type": "code",
   "execution_count": 11,
   "id": "0a64351f",
   "metadata": {},
   "outputs": [],
   "source": [
    "# ep_list2 = []\n",
    "# for i in range(len(ep_list)):\n",
    "#     res0= req.get(ep_list[i],headers = header)\n",
    "#     res0.encoding = 'gbk'\n",
    "#     soup_link = bs(res0.text,'lxml')\n",
    "#     inner =soup_link.select_one('#contentmain').get_text()\n",
    "#     ep_list2.append(inner)\n",
    "# titles=[]\n",
    "# for i in range(len(ep_list)):\n",
    "#     res0= req.get(ep_list[i],headers = header)\n",
    "#     res0.encoding = 'gbk'\n",
    "#     soup_link = bs(res0.text,'lxml')\n",
    "#     title=soup_link.select_one('title').get_text()\n",
    "#     titles.append(title)\n",
    "#     print(title_name[0])\n",
    "#     print(soup_link.select_one(\"#title\"))\n",
    "for index,link in enumerate(ep_list):\n",
    "    res0= req.get(link,headers = header)\n",
    "    res0.encoding = 'gbk'\n",
    "    soup_link = bs(res0.text,'lxml')\n",
    "    inner =soup_link.select_one('#contentmain').get_text()\n",
    "    for title in title_name:\n",
    "        if title in soup_link.select_one(\"#title\").get_text():\n",
    "             with open(f'{folderPath}\\{title}\\{titles[index]}.txt','w',encoding = 'utf-8') as file:\n",
    "                file.write(inner)"
   ]
  },
  {
   "cell_type": "code",
   "execution_count": null,
   "id": "8a4979a6",
   "metadata": {},
   "outputs": [],
   "source": [
    "print(soup_link.select_one('title').get_text())"
   ]
  }
 ],
 "metadata": {
  "kernelspec": {
   "display_name": "Python 3 (ipykernel)",
   "language": "python",
   "name": "python3"
  },
  "language_info": {
   "codemirror_mode": {
    "name": "ipython",
    "version": 3
   },
   "file_extension": ".py",
   "mimetype": "text/x-python",
   "name": "python",
   "nbconvert_exporter": "python",
   "pygments_lexer": "ipython3",
   "version": "3.9.12"
  }
 },
 "nbformat": 4,
 "nbformat_minor": 5
}
